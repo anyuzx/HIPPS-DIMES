{
 "cells": [
  {
   "cell_type": "markdown",
   "metadata": {},
   "source": [
    "# Hipps-Dimes Walkthrough\n",
    "\n",
    "Pre-requisites:\n",
    "\n",
    "* Basic Python knowledge\n",
    "* Some experience with the Numpy and Scipy\n",
    "\n",
    "To navigate this notebook:\n",
    "\n",
    "* First install the python script/module by running `pip install --editable .` in the terminal\n",
    "* Click on a code cell and execute its code by pressing `shift+enter` or clicking the `play` button on the toolbar\n",
    "* During the execution of the code cell, the prompt on the left is displayed as `[*]:`. It will display the execution count when the execution is finished.\n",
    "* The output of each code cell is displayed below each cell\n",
    "\n",
    "---"
   ]
  },
  {
   "cell_type": "markdown",
   "metadata": {},
   "source": [
    "**First, install the Hipps-Dimes module by running the following code cell**"
   ]
  },
  {
   "cell_type": "code",
   "execution_count": null,
   "metadata": {},
   "outputs": [],
   "source": [
    "%%bash\n",
    "\n",
    "pip install --editable ."
   ]
  },
  {
   "cell_type": "markdown",
   "metadata": {},
   "source": [
    "**Next, we can display the help information for available arguments and options the script accepts by using `--help` option**"
   ]
  },
  {
   "cell_type": "code",
   "execution_count": null,
   "metadata": {},
   "outputs": [],
   "source": [
    "%%bash\n",
    "\n",
    "HippsDimes --help"
   ]
  },
  {
   "cell_type": "markdown",
   "metadata": {},
   "source": [
    "---\n",
    "\n",
    "## Overview\n",
    "\n",
    "The program `HippsDimes` accept a input file, which can be either a Hi-C contact map or mean spatial distance map, and then generate an ensemble of structures of x, y, z coordinates of genomic loci.\n",
    "\n",
    "If the input file is a Hi-C contact map, then it can be either [`cooler`](https://open2c.github.io/cooler/) format or pure text format. If the input file is a mean spatial distance map, then it should be pure text format.\n",
    "\n",
    "The program accepts a number of arguments and options. The full list of arguments and options and their descriptions are the following,\n",
    "\n",
    "### Argument\n",
    "\n",
    "- `INPUT`: File path for the input file. The input file can be a Hi-C contact map or a mean spatial distance map as measured in Multiplexed FISH experiment.\n",
    "- `OUTPUT_PREFIX`: Prefix for outputfiles. For instance, if one specify it to be `TEST`, then all the output files will start with `TEST_`.\n",
    "\n",
    "### Options\n",
    "\n",
    "- `-e` or `--ensemble`: Number of individual conformations to be generated. This script will generate an ensemble of structures consistent with the input Hi-C contact map or the mean spatial distance map. Each individual conformations are different from each other. You can specify how many such individual conformations you want to generate.\n",
    "- `-a` or `--alpha`: Value of the contact map to distance map conversion exponent. If the input file is Hi-C contact map, the method first convert the contact map to a mean spatial distance map. The equation of the conversion is d_{ij} ~ c_{ij}^{1/\\alpha}. The default value of \\alpha is 4.0, estimated in this work 10.1126/science.aaf8084\n",
    "- `-s` or `--selection`: Specify chromosome or region. This option only works when the input file has [`cooler`](https://github.com/open2c/cooler) format. The value of this option is passed to the `cooler.Cooler.matrix().fetch()` method. For details, please refer their [documentation](https://cooler.readthedocs.io/en/latest/concepts.html#matrix-selector)\n",
    "- `-i` or `--iteration`: The method relies on iterative scaling to find the optimal parameters. This option specifies the number of iterations. Generally, the more iterations the model runs, the better results are. However, the convergence of the model slow down when iteration increases. For larger size of contact map and the mean distance map, the number of iterations needed to good convergence is larger.\n",
    "- `-r` or `--learning-rate`: The learning rate for iterative scaling. Higher learning rate achieves faster convergence. However, the model can crash if learning rate is too large. The default value is 10. One should play around this option to see what works best.\n",
    "- `--input-type`: The type of the input file. To use the script, the type must be specified. The method can work on both the contact map (`cmap`) or distance map (`dmap`).\n",
    "- `--input-format`: The format of the input file. If the type of input file is Hi-C contact map, then the script support `cooler` format Hi-C contact map file or a pure text based file. In the text based file, each line corresponds to the row of the contact map. If the type of input file is mean distance map, then the script only support the text based file in which each line represents the row of the mean distance map.\n",
    "- `--log`: A log file will be written if this option is specified. The log file contains the data of cost versus iteration\n",
    "- `--no-xyzs`: Turn off writing x,y,z coordinates of genome structures to files."
   ]
  },
  {
   "cell_type": "markdown",
   "metadata": {},
   "source": [
    "---\n",
    "\n",
    "## Examples\n",
    "\n",
    "To run the examples below, let's import packages we will need. Install any packages which are not installed, using either `pip` or `conda`."
   ]
  },
  {
   "cell_type": "code",
   "execution_count": null,
   "metadata": {},
   "outputs": [],
   "source": [
    "import cooler\n",
    "import pandas as pd\n",
    "import matplotlib\n",
    "import matplotlib.pyplot as plt\n",
    "import numpy as np"
   ]
  },
  {
   "cell_type": "markdown",
   "metadata": {},
   "source": [
    "First, let's import the exampled cooler file under the directory `data` and plot it"
   ]
  },
  {
   "cell_type": "code",
   "execution_count": null,
   "metadata": {},
   "outputs": [],
   "source": [
    "# import cooler file using Cooler package\n",
    "cmap = cooler.Cooler('data/Rao2014-GM12878-MboI-allreps-filtered.1000kb.cool')\n",
    "cmap_chr7 = cmap.matrix(balance=False).fetch('chr7')\n",
    "\n",
    "# plot the Hi-C contact map for chromosome 7\n",
    "fig, ax = plt.subplots()\n",
    "ax.imshow(cmap_chr7, vmax=10000)\n",
    "ax.set_title('chr 7')\n",
    "plt.show()"
   ]
  },
  {
   "cell_type": "markdown",
   "metadata": {},
   "source": [
    "Now, let's run the Hipps-Dimes algorithm on this Hi-C contact map and generate an ensemble of structures."
   ]
  },
  {
   "cell_type": "code",
   "execution_count": null,
   "metadata": {},
   "outputs": [],
   "source": [
    "%%bash\n",
    "\n",
    "HippsDimes data/Rao2014-GM12878-MboI-allreps-filtered.1000kb.cool rao2014 --input-type cmap --input-format cooler -s chr7 -e 1000 -i 1000 --log"
   ]
  },
  {
   "cell_type": "markdown",
   "metadata": {},
   "source": [
    "The command above dows the following,\n",
    "\n",
    "* specify the path to the input file `data/Rao2014-GM12878-MboI-allreps-filtered.1000kb.cool`\n",
    "* specify the output prefix to be `rao2014`. All the output files' name will start with `rao2014_`\n",
    "* specify that the type of the input file is `cmap` which indicates that it is a contact map\n",
    "* specify that the format of the input contact map is `cooler`\n",
    "* specify the number of individual conformations to be 1000\n",
    "* specify the number of iterations to be 1000\n",
    "* specify the genome region for the structures to be `chr7` which means Chromosome 7\n",
    "* turn on the log file. Once the program ran successfully, a log file named `cost_function_iteration.csv` will be generated. "
   ]
  },
  {
   "cell_type": "markdown",
   "metadata": {},
   "source": [
    "Let's have a look at the results generated. The output files are,\n",
    "\n",
    "* `rao2014.xyz`: A `.xyz` formated trajectory file containing 10 sets of x,y,z coordinates of genomic loci\n",
    "* `rao2014_dmap_final.txt`: A text foramted mean distance matrix map for the end of iterations.\n",
    "* `rao2014_connectivity_matrix.txt`: A text formated file containing the matrix of $k_{ij}$\n",
    "* `cost_function_iteration.csv`: A CSV formatted file containing the cost value for each step of iterations.\n",
    "\n",
    "First, we can plot the `cost_function_iteration.csv` to see the cost as a function of iteration steps,"
   ]
  },
  {
   "cell_type": "code",
   "execution_count": null,
   "metadata": {},
   "outputs": [],
   "source": [
    "# read the file\n",
    "cost_iteration = pd.read_csv('cost_function_iteration.csv')\n",
    "\n",
    "# plot\n",
    "fig, ax = plt.subplots()\n",
    "ax.plot(cost_iteration['iteration'],\\\n",
    "       cost_iteration['cost'], marker='o')\n",
    "ax.set_xscale('log')\n",
    "ax.set_xlabel('iteration step')\n",
    "ax.set_ylabel('cost')\n",
    "plt.show()"
   ]
  },
  {
   "cell_type": "markdown",
   "metadata": {},
   "source": [
    "As one can see, the cost goes down as the iteration step increases. Typically, for larger size of input contact map or distance map, the higher number of iteration steps for good convergence (low cost value) is needed. In this particular case, since our size of contact map is only 160x160, thus 1000 iteration steps are good enough."
   ]
  },
  {
   "cell_type": "markdown",
   "metadata": {},
   "source": [
    "Next, let's read the _simulated_ contact map and plot it side by side with the inputted Hi-C map,"
   ]
  },
  {
   "cell_type": "code",
   "execution_count": null,
   "metadata": {},
   "outputs": [],
   "source": [
    "# load the contact map from the generated structures\n",
    "cmap_model = np.loadtxt('rao2014_cmap_final.txt')\n",
    "\n",
    "# plot the contact map from the model with the Hi-C contact map as comparison\n",
    "# the lower triangle is the Hi-C map\n",
    "# the upper triangle is the contact map from generated structures\n",
    "fig, ax = plt.subplots()\n",
    "ax.imshow(np.triu(cmap_model)+np.tril(cmap_chr7/cmap_chr7.max()), vmax=0.01, cmap=plt.cm.Reds)\n",
    "ax.text(0.1,0.05,'Hi-C',horizontalalignment='center',verticalalignment='center', transform=ax.transAxes)\n",
    "ax.text(0.89,0.94,'HIPPS',horizontalalignment='center',verticalalignment='center', transform=ax.transAxes)\n",
    "plt.show()"
   ]
  },
  {
   "cell_type": "markdown",
   "metadata": {},
   "source": [
    "The generated structures are stored in the generated `.xyz` file. Because we specify that we want 1000 individual structures, the `xyz` file contains 1000 sets of coordinates. It can be read by `VMD` or other compatible rendering softwares for visualization. Please see the recording below for an demonstration. For detailed guide how to use VMD, please visit their website https://www.ks.uiuc.edu/Research/vmd/\n",
    "\n",
    "![vmd_demonstration](data/vmd_demonstration.gif \"segment\")"
   ]
  },
  {
   "cell_type": "code",
   "execution_count": null,
   "metadata": {},
   "outputs": [],
   "source": []
  }
 ],
 "metadata": {
  "kernelspec": {
   "display_name": "Python 3",
   "language": "python",
   "name": "python3"
  },
  "language_info": {
   "codemirror_mode": {
    "name": "ipython",
    "version": 3
   },
   "file_extension": ".py",
   "mimetype": "text/x-python",
   "name": "python",
   "nbconvert_exporter": "python",
   "pygments_lexer": "ipython3",
   "version": "3.8.3"
  }
 },
 "nbformat": 4,
 "nbformat_minor": 4
}
